{
 "cells": [
  {
   "cell_type": "markdown",
   "metadata": {},
   "source": [
    "# Analysis of the log-file\n",
    "- how long did the pulse pattern take for each PIN\n",
    "- What PINs have been evaluated?\n",
    "  "
   ]
  },
  {
   "cell_type": "code",
   "execution_count": null,
   "metadata": {},
   "outputs": [],
   "source": [
    "import pandas as pd"
   ]
  },
  {
   "cell_type": "code",
   "execution_count": null,
   "metadata": {},
   "outputs": [],
   "source": [
    "df=pd.read_csv('PIN_unlock.log', sep=r'\\\\t', header = 0, engine='python')\n",
    "# split column into multiple columns by delimiter \n",
    "df=df['logfile for PIN_unlock.py'].str.split(' - PIN - DEBUG - ', expand=True)\n",
    "# rename columns \n",
    "df=df.rename(columns={0: \"datetime\", 1: \"event\"})\n",
    "df['datetime']=pd.to_datetime(df['datetime'])\n",
    "df['event'] = df['event'].str.replace('\\'','')\n",
    "\n",
    "df_split=df['event'].str.split('PIN: ', expand=True)\n",
    "df_split=df_split.rename(columns={0: \"event2\", 1: \"PIN\", 2: \"duration\"})\n",
    "df=df.join(df_split)\n",
    "\n",
    "df_split=df['event2'].str.split('attempt nr: ', expand=True)\n",
    "df_split=df_split.rename(columns={0: \"event3\", 1: \"attempt\"})\n",
    "df=df.join(df_split)\n",
    "\n",
    "df['PIN'] = df['PIN'].str.replace(' time last ','')\n",
    "df['duration'] = df['duration'].str.replace(' sec','')\n",
    "df=df.drop(['event2', 'event3'], axis=1)\n",
    "\n",
    "df['duration'] = pd.to_numeric(df['duration'], errors='coerce')\n",
    "df['PIN'] = pd.to_numeric(df['PIN'], downcast='integer', errors='coerce')\n",
    "df['attempt'] = pd.to_numeric(df['attempt'], downcast='integer',errors='coerce')\n",
    "\n",
    "df.head(5)\n"
   ]
  },
  {
   "cell_type": "markdown",
   "metadata": {},
   "source": [
    "## Visuals"
   ]
  },
  {
   "cell_type": "code",
   "execution_count": null,
   "metadata": {},
   "outputs": [],
   "source": [
    "import matplotlib.pyplot as plt\n",
    "#from matplotlib.finance import candlestick_ohlc\n",
    "from matplotlib import style\n",
    "import pandas as pd\n",
    "\n",
    "style.use('classic')\n",
    "\n",
    "def graph():\n",
    "    #df = pd.DataFrame(candlestick_list)\n",
    "    #ohlc = df[['date', 'open', 'high', 'low', 'close']]\n",
    "\n",
    "    ax1 = plt.subplot2grid((6,1), (0,0), rowspan=5, colspan=1)\n",
    "    ax2 = plt.subplot2grid((6,1), (5,0), rowspan=5, colspan=1, sharex=ax1)\n",
    "    #candlestick_ohlc(ax1, ohlc.values, width=0.5, colorup='g', colordown='r')\n",
    "    ax2.scatter(df['datetime'], df['PIN'])\n",
    "    ax1.scatter(df['datetime'], df['duration'])\n",
    "    plt.show()\n",
    "graph()"
   ]
  },
  {
   "cell_type": "code",
   "execution_count": null,
   "metadata": {},
   "outputs": [],
   "source": [
    "import plotly.express as px\n",
    "fig = px.scatter(df, x='datetime', y=\"duration\")\n",
    "fig.update_layout(height=300, width=400, title_text=\"PIN_unlock analysis\")\n",
    "fig.show()"
   ]
  },
  {
   "cell_type": "code",
   "execution_count": null,
   "metadata": {},
   "outputs": [],
   "source": [
    "\n",
    "fig = px.scatter(df, x='datetime', y=\"PIN\")\n",
    "fig.update_layout(height=300, width=400, title_text=\"PIN_unlock analysis\")\n",
    "fig.show()"
   ]
  },
  {
   "cell_type": "code",
   "execution_count": null,
   "metadata": {},
   "outputs": [],
   "source": [
    "fig = px.scatter(df, x='PIN', y=\"duration\")\n",
    "fig.update_layout(height=300, width=400, title_text=\"PIN_unlock analysis\")\n",
    "fig.show()"
   ]
  },
  {
   "cell_type": "code",
   "execution_count": null,
   "metadata": {},
   "outputs": [],
   "source": [
    "from plotly.subplots import make_subplots\n",
    "import plotly.graph_objects as go\n",
    "\n",
    "fig = make_subplots(rows=2, cols=1,\n",
    "    subplot_titles=(\"Plot 1\", \"Plot 2\")\n",
    ")\n",
    "\n",
    "fig.append_trace(\n",
    "    go.Scatter(x=df['datetime'], y=df[\"PIN\"]),\n",
    "    row=1, col=1  \n",
    ")\n",
    "\n",
    "fig.append_trace(\n",
    "    go.Scatter(x=df['datetime'], y=df[\"duration\"]),\n",
    "    row=2, col=1\n",
    ")\n",
    "\n",
    "fig.update_layout(height=600, width=400, title_text=\"PIN_unlock analysis\")\n",
    "fig.show()\n"
   ]
  }
 ],
 "metadata": {
  "kernelspec": {
   "display_name": "Python 3.8.8 ('base')",
   "language": "python",
   "name": "python3"
  },
  "language_info": {
   "codemirror_mode": {
    "name": "ipython",
    "version": 3
   },
   "file_extension": ".py",
   "mimetype": "text/x-python",
   "name": "python",
   "nbconvert_exporter": "python",
   "pygments_lexer": "ipython3",
   "version": "3.8.8"
  },
  "orig_nbformat": 4,
  "vscode": {
   "interpreter": {
    "hash": "ad2bdc8ecc057115af97d19610ffacc2b4e99fae6737bb82f5d7fb13d2f2c186"
   }
  }
 },
 "nbformat": 4,
 "nbformat_minor": 2
}
